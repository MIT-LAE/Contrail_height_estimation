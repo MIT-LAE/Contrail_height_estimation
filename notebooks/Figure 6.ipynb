{
 "cells": [
  {
   "cell_type": "code",
   "execution_count": 78,
   "id": "92130fdc",
   "metadata": {},
   "outputs": [],
   "source": [
    "import os\n",
    "import datetime as dt\n",
    "import glob\n",
    "\n",
    "import colormaps\n",
    "import pandas as pd\n",
    "import numpy as np\n",
    "import matplotlib.pyplot as plt\n",
    "import xarray as xr\n",
    "\n",
    "from contrails.units import pres2alt\n",
    "from contrails.meteorology.era5 import get_ERA5_data\n",
    "from contrails.satellites.goes.abi import get_nc_path, ABI2geodetic\n",
    "\n",
    "DISTRIBUTION_DIR = \"../data/flight_distribution_test/distributions/\""
   ]
  },
  {
   "cell_type": "markdown",
   "id": "b601397a",
   "metadata": {},
   "source": [
    "### Load flight altitude distributions"
   ]
  },
  {
   "cell_type": "code",
   "execution_count": 79,
   "id": "ba4bda23",
   "metadata": {},
   "outputs": [],
   "source": [
    "distribution_files = np.sort(glob.glob(os.path.join(DISTRIBUTION_DIR, \"*.parquet\")))"
   ]
  },
  {
   "cell_type": "code",
   "execution_count": 85,
   "id": "d64ac827",
   "metadata": {},
   "outputs": [],
   "source": [
    "bins = np.arange(250, 450, 10)\n",
    "img = np.full((len(bins), len(distribution_files)), 0.0)\n",
    "\n",
    "counter = 0\n",
    "for file in distribution_files:\n",
    "\n",
    "    distribution = pd.read_parquet(file)\n",
    "    \n",
    "    # Normalize and multiply by 100 to get %\n",
    "    distribution[\"dist_km\"] /= distribution[\"dist_km\"].sum()\n",
    "    distribution[\"dist_km\"] *= 100\n",
    "\n",
    "    for k, v in distribution.iterrows():\n",
    "        \n",
    "        row = np.where(bins == int(k))[0]\n",
    "        \n",
    "        img[row, counter] = v.values[0]\n",
    "        \n",
    "    counter += 1"
   ]
  },
  {
   "cell_type": "markdown",
   "id": "f8327a86",
   "metadata": {},
   "source": [
    "### Load test set results"
   ]
  },
  {
   "cell_type": "code",
   "execution_count": 172,
   "id": "2e7ce1e3",
   "metadata": {},
   "outputs": [],
   "source": [
    "res = pd.read_pickle(\"test_set_glad-resonance.pkl\")\n",
    "\n",
    "# These are the files in the test set with OpenSky coverage\n",
    "test_set_files = pd.read_parquet(\"../data/test_files_glad-resonance.parquet\")\n",
    "\n",
    "\n",
    "res = res[res.filename.isin(test_set_files.file.values)]\n",
    "res = res.groupby(res.filename).first().reset_index()\n",
    "\n",
    "res['time'] = res.apply(lambda x: dt.datetime.strptime(\"_\".join(\n",
    "                    os.path.basename(x['filename']).split(\"_\")[1:4]), \"%Y%m%d_%H_%M\"), axis=1)\n",
    "\n",
    "# This is the filename of the flight distribution, if it exists\n",
    "res['flight_fn'] = res['time'].dt.strftime(\"%Y%m%d_%H_%M.parquet\")\n",
    "res = res.reset_index()\n",
    "\n",
    "# Keep only the rows with an existing flight distribution file\n",
    "# and keep only the first pixel (as was done for generating the distributions, location-wise)\n",
    "res = res[res.flight_fn.isin([os.path.basename(f) for f in distribution_files])]\n",
    "res = res.groupby(\"flight_fn\").first().reset_index()\n",
    "\n",
    "order = res.y.argsort()\n",
    "res = res.sort_values(by='y')"
   ]
  },
  {
   "cell_type": "markdown",
   "id": "ed67f6cb",
   "metadata": {},
   "source": [
    "### Now convert the results to flight levels"
   ]
  },
  {
   "cell_type": "markdown",
   "id": "b06abf5b",
   "metadata": {},
   "source": [
    "First ensure that the quantiles are monotonically increasing"
   ]
  },
  {
   "cell_type": "code",
   "execution_count": 164,
   "id": "a973be76",
   "metadata": {},
   "outputs": [],
   "source": [
    "from sklearn.isotonic import IsotonicRegression\n",
    "\n",
    "def make_monotonic(quantile_levels, quantile_values):\n",
    "    \"\"\"\n",
    "    Based on the method in mcast/nowcasting/height_estimation/probabilistic.py\n",
    "    \n",
    "    Does not check for repeated values.\n",
    "    TODO: Check for repeated values as this can give issues with the Pchip interpolator\n",
    "    \"\"\"\n",
    "    iso_reg = IsotonicRegression().fit(quantile_levels, quantile_values)\n",
    "    monotonic_quantile_values = iso_reg.predict(quantile_levels)\n",
    "\n",
    "            \n",
    "    return monotonic_quantile_values\n",
    "\n",
    "quantile_columns = [c for c in res.columns if \"q0\" in c]\n",
    "monotonic_quantile_columns = [col.replace(\"q\",\"qm\") for col in quantile_columns]\n",
    "quantile_levels = np.array([float(col.lstrip(\"q\")) for col in quantile_columns])\n",
    "\n",
    "# Make sure to reset index: otherwise the addition of the columns will fail\n",
    "res = res.reset_index()\n",
    "\n",
    "res[monotonic_quantile_columns] = np.nan\n",
    "\n",
    "\n",
    "res[monotonic_quantile_columns] = pd.DataFrame(res.apply(lambda x: make_monotonic(quantile_levels, x[quantile_columns].values),\n",
    "                                                               axis=1).to_list(),\n",
    "            columns=monotonic_quantile_columns)"
   ]
  },
  {
   "cell_type": "code",
   "execution_count": 168,
   "id": "b44f0f92",
   "metadata": {},
   "outputs": [],
   "source": [
    "\n",
    "def get_contrail_pressures(heights, gh_vals, pressures):\n",
    "    contrail_pressures = np.zeros_like(heights)\n",
    "    \n",
    "    for i in range(len(heights)):\n",
    "        \n",
    "        contrail_pressures[i] = np.interp(heights[i], gh_vals, pressures)\n",
    "        \n",
    "        \n",
    "    return contrail_pressures\n",
    "    \n",
    "def convert_row_to_flight_level(row):\n",
    "    path = row.filename\n",
    "    \n",
    "    conus = False\n",
    "    if \"MCMIPC\" in path:\n",
    "        conus = True\n",
    "\n",
    "    time = dt.datetime.strptime(\"_\".join(os.path.basename(path).split(\"_\")[1:4]), \"%Y%m%d_%H_%M\")\n",
    "    min_col, max_col, min_row, max_row = [int(s) for s in os.path.basename(path).split(\".\")[0].split(\"_\")[-4:]]\n",
    "    label = np.load(path.replace(\"images\", \"labels\"))\n",
    "\n",
    "    rows, cols = np.where(label > 0)\n",
    "    rows += min_row\n",
    "    cols += min_col\n",
    "\n",
    "\n",
    "    suffix = \"C\" if conus else \"F\"\n",
    "    nc = xr.open_dataset(get_nc_path(time, product=\"ABI-L2-MCMIP\" + suffix))\n",
    "\n",
    "    x = nc.x.values[cols]\n",
    "    y = nc.y.values[rows]\n",
    "\n",
    "    lons, lats = ABI2geodetic(x, y)\n",
    "\n",
    "\n",
    "    from collections import defaultdict\n",
    "\n",
    "    itp_coords = {\"longitude\" : xr.DataArray(lons, dims=\"s\"),\n",
    "                  \"latitude\" : xr.DataArray(lats, dims=\"s\"),\n",
    "                  \"time\" : xr.DataArray(np.array([time] * len(lons)), dims=\"s\")}\n",
    "    \n",
    "    \n",
    "    era5 = get_ERA5_data(time)\n",
    "\n",
    "    gh_vals = era5.z.interp(**itp_coords, method=\"linear\").values[0,:]\n",
    "\n",
    "    pressure_df = defaultdict(list)\n",
    "\n",
    "    keys = monotonic_quantile_columns\n",
    "    \n",
    "    \n",
    "    pressures = get_contrail_pressures(row[keys] * 1000, gh_vals / 9.80665, era5.isobaricInhPa.values)\n",
    "    for k, v in zip(keys, pressures):\n",
    "\n",
    "        pressure_df[k].append(v)\n",
    "    \n",
    "    pressure_df = pd.DataFrame(pressure_df)\n",
    "\n",
    "    FL_df = pres2alt(pressure_df * 100) / 0.3048 / 100\n",
    "    \n",
    "    return FL_df.iloc[0]"
   ]
  },
  {
   "cell_type": "code",
   "execution_count": 169,
   "id": "93c565d4",
   "metadata": {},
   "outputs": [],
   "source": [
    "FL_df = res.apply(convert_row_to_flight_level, axis=1)"
   ]
  },
  {
   "cell_type": "markdown",
   "id": "02a3ece3",
   "metadata": {},
   "source": [
    "Now create the boxes for the boxplots"
   ]
  },
  {
   "cell_type": "code",
   "execution_count": 170,
   "id": "432c8ebf",
   "metadata": {},
   "outputs": [],
   "source": [
    "boxes = []\n",
    "\n",
    "for _, row in FL_df.iterrows():\n",
    "    \n",
    "\n",
    "    box = {\"whislo\" : row[\"qm0.025\"],\n",
    "           \"q1\" : 0.5 * (row[\"qm0.2\"] + row[\"qm0.3\"]),\n",
    "           \"med\" : row[\"qm0.5\"],\n",
    "           \"q3\" : 0.5 * (row[\"qm0.7\"] + row[\"qm0.8\"]),\n",
    "           \"whishi\" : row[\"qm0.975\"],\n",
    "          'fliers' : []}\n",
    "\n",
    "    boxes.append(box)\n"
   ]
  },
  {
   "cell_type": "markdown",
   "id": "1c05a8c4",
   "metadata": {},
   "source": [
    "### Create plot"
   ]
  },
  {
   "cell_type": "code",
   "execution_count": null,
   "id": "cffdcdec",
   "metadata": {},
   "outputs": [
    {
     "data": {
      "text/plain": [
       "<matplotlib.colorbar.Colorbar at 0x7fe6b647b0d0>"
      ]
     },
     "execution_count": 174,
     "metadata": {},
     "output_type": "execute_result"
    }
   ],
   "source": [
    "fig, ax = plt.subplots(dpi=500, figsize=(7.2, 7.2 * 0.5))\n",
    "\n",
    "\n",
    "n = len(ordered_true_values)\n",
    "vmin = 0\n",
    "vmax = 30\n",
    "\n",
    "cf = ax.imshow(img[::-1,order], extent=(0, img.shape[1], 245, 445), vmin=vmin, vmax=vmax, cmap=colormaps.cosmic)\n",
    "counter = 0\n",
    "\n",
    "# ordered_true_values[-1] -= 5\n",
    "\n",
    "ls = ax.plot(np.arange(n) + 0.5, ordered_true_values, c='r',\n",
    "       label=\"True value\")\n",
    "\n",
    "\n",
    "for box in boxes:\n",
    "    \n",
    "    bp = ax.bxp([box], positions=[counter+0.5], widths=0.5, boxprops=dict(color=\"w\"),\n",
    "                whiskerprops=dict(color=\"w\"),\n",
    "           medianprops=dict(color='w'), showcaps=False)\n",
    "          \n",
    "    counter += 1\n",
    "    \n",
    "    \n",
    "\n",
    "ax.legend([bp[\"boxes\"][0], ls[0]], [\"CNN estimate\", \"True value\"],\n",
    "          facecolor=\"gray\", framealpha=1.0)\n",
    "    \n",
    "    \n",
    "ax.set_aspect(\"auto\")\n",
    "\n",
    "ax.set_xlim(0, img.shape[1])\n",
    "ax.set_xticks(np.arange(0,len(boxes), 2)+0.5)\n",
    "ax.set_xticklabels(np.arange(0,len(boxes), 2))\n",
    "ax.set_ylim(250, 440)\n",
    "ax.set_yticks(np.arange(250, 450, 20))\n",
    "ax.set(xlabel=\"Data point index\", ylabel=\"Flight level\")\n",
    "\n",
    "pos = ax.get_position()\n",
    "cax = fig.add_axes([pos.x1+0.025, pos.y0, 0.025, pos.y1-pos.y0])\n",
    "\n",
    "plt.colorbar(cf, cax=cax, label='% of distance flown in 2 hours before')"
   ]
  }
 ],
 "metadata": {
  "kernelspec": {
   "display_name": "gspy",
   "language": "python",
   "name": "gspy"
  },
  "language_info": {
   "codemirror_mode": {
    "name": "ipython",
    "version": 3
   },
   "file_extension": ".py",
   "mimetype": "text/x-python",
   "name": "python",
   "nbconvert_exporter": "python",
   "pygments_lexer": "ipython3",
   "version": "3.8.15"
  }
 },
 "nbformat": 4,
 "nbformat_minor": 5
}
